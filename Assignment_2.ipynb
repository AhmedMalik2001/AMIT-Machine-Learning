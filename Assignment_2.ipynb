{
 "cells": [
  {
   "cell_type": "markdown",
   "id": "bc5e12b2",
   "metadata": {},
   "source": [
    "# Assignment_2"
   ]
  },
  {
   "cell_type": "markdown",
   "id": "8b9b4877",
   "metadata": {},
   "source": [
    "## Ahmed Malik"
   ]
  },
  {
   "cell_type": "markdown",
   "id": "d4072a04",
   "metadata": {},
   "source": [
    "# PDF Questions"
   ]
  },
  {
   "cell_type": "markdown",
   "id": "ce83f6f5",
   "metadata": {},
   "source": [
    "#### 1. Write a Python program to add an item to a tuple."
   ]
  },
  {
   "cell_type": "code",
   "execution_count": 17,
   "id": "27dc976d",
   "metadata": {},
   "outputs": [
    {
     "name": "stdout",
     "output_type": "stream",
     "text": [
      "First Method's result---> (1, 2, 3, 4, 5, 'NNNOOOO')\n",
      "Second Method's result---> (55, 66, 77, 88, 'Adding to the end')\n"
     ]
    }
   ],
   "source": [
    "#1st Method\n",
    "\n",
    "x=(1,2,3,4,5)\n",
    "x=x+(\"NNNOOOO\",)\n",
    "print(\"First Method's result--->\",x)\n",
    "\n",
    "#2nd Method\n",
    "\n",
    "y=(55,66,77,88)\n",
    "z=list(y)\n",
    "z.append(\"Adding to the end\")\n",
    "y=tuple(z)\n",
    "print(\"Second Method's result--->\",y)"
   ]
  },
  {
   "cell_type": "markdown",
   "id": "e75468e6",
   "metadata": {},
   "source": [
    "#### 2. Write a Python program to sum all the items in a list."
   ]
  },
  {
   "cell_type": "code",
   "execution_count": 19,
   "id": "4baa0b5f",
   "metadata": {},
   "outputs": [
    {
     "name": "stdout",
     "output_type": "stream",
     "text": [
      "15\n"
     ]
    }
   ],
   "source": [
    "Listing=[1,2,3,4,5]\n",
    "print(sum(Listing))"
   ]
  },
  {
   "cell_type": "markdown",
   "id": "c76a036c",
   "metadata": {},
   "source": [
    "#### 3. Write a Python program to multiply all the items in a list."
   ]
  },
  {
   "cell_type": "code",
   "execution_count": 30,
   "id": "8e6f9ec5",
   "metadata": {},
   "outputs": [
    {
     "name": "stdout",
     "output_type": "stream",
     "text": [
      "x= 120\n",
      "y= 120\n"
     ]
    }
   ],
   "source": [
    "# 1st Method\n",
    "\n",
    "Listing1=[1,2,3,4,5]\n",
    "x=1\n",
    "for i in range(len(Listing1)):\n",
    "    x*=Listing1[i]\n",
    "\n",
    "print(f\"x= {x}\")\n",
    "\n",
    "# 2nd Method\n",
    "\n",
    "y=1\n",
    "for i in Listing1:\n",
    "    y*=i\n",
    "\n",
    "print(f\"y= {y}\")"
   ]
  },
  {
   "cell_type": "markdown",
   "id": "f212dcd7",
   "metadata": {},
   "source": [
    "#### 4.Write a Python program to get the smallest number from a list."
   ]
  },
  {
   "cell_type": "code",
   "execution_count": 32,
   "id": "69e63e71",
   "metadata": {},
   "outputs": [
    {
     "name": "stdout",
     "output_type": "stream",
     "text": [
      "-1\n"
     ]
    }
   ],
   "source": [
    "Listing2=[14,3,5,100,36,0.5,-1]\n",
    "print(min(Listing2))"
   ]
  },
  {
   "cell_type": "markdown",
   "id": "ae3bd13a",
   "metadata": {},
   "source": [
    "#### 5. Write a Python program to get the largest number from a list."
   ]
  },
  {
   "cell_type": "code",
   "execution_count": 33,
   "id": "1536f624",
   "metadata": {},
   "outputs": [
    {
     "name": "stdout",
     "output_type": "stream",
     "text": [
      "100\n"
     ]
    }
   ],
   "source": [
    "Listing2=[14,3,5,100,36,0.5,-1]\n",
    "print(max(Listing2))"
   ]
  },
  {
   "cell_type": "markdown",
   "id": "7fa724a7",
   "metadata": {},
   "source": [
    "#### 6. Write a Python program to count the number of strings from a given list of strings."
   ]
  },
  {
   "cell_type": "code",
   "execution_count": 34,
   "id": "7153d9cb",
   "metadata": {},
   "outputs": [
    {
     "name": "stdout",
     "output_type": "stream",
     "text": [
      "4\n"
     ]
    }
   ],
   "source": [
    "Listing3=[\"Apple\",\"Banana\",\"7mada\",\"Bitingana\"]\n",
    "print(len(Listing3))"
   ]
  },
  {
   "cell_type": "markdown",
   "id": "a57a8a5b",
   "metadata": {},
   "source": [
    "#### 7. Write a Python program to clone or copy a list"
   ]
  },
  {
   "cell_type": "code",
   "execution_count": 35,
   "id": "6278fde8",
   "metadata": {},
   "outputs": [
    {
     "name": "stdout",
     "output_type": "stream",
     "text": [
      "['Apple', 'Banana', '7mada', 'Bitingana']\n"
     ]
    }
   ],
   "source": [
    "Listing3=[\"Apple\",\"Banana\",\"7mada\",\"Bitingana\"]\n",
    "CopyList= Listing3.copy()\n",
    "print(CopyList)"
   ]
  },
  {
   "cell_type": "markdown",
   "id": "f01a7be4",
   "metadata": {},
   "source": [
    "#### 8. Write a Python program to remove item(s) from a given set."
   ]
  },
  {
   "cell_type": "code",
   "execution_count": 38,
   "id": "83d639d1",
   "metadata": {},
   "outputs": [
    {
     "name": "stdout",
     "output_type": "stream",
     "text": [
      "['Banana', '7mada', 'Bitingana']\n"
     ]
    }
   ],
   "source": [
    "Listing4=[\"Apple\",\"Banana\",\"7mada\",\"Bitingana\"]\n",
    "Listing4.remove(\"Apple\")\n",
    "print(Listing4)"
   ]
  },
  {
   "cell_type": "markdown",
   "id": "d4ecedb6",
   "metadata": {},
   "source": [
    "#### 9. Write a Python program to check if a set is a subset of another set."
   ]
  },
  {
   "cell_type": "code",
   "execution_count": 43,
   "id": "0f802e50",
   "metadata": {},
   "outputs": [
    {
     "name": "stdout",
     "output_type": "stream",
     "text": [
      "True\n"
     ]
    }
   ],
   "source": [
    "set1={1,2,3,4,5}\n",
    "set2={1,2,3}\n",
    "\n",
    "print(set2.issubset(set1))"
   ]
  },
  {
   "cell_type": "markdown",
   "id": "7864a18b",
   "metadata": {},
   "source": [
    "#### 10. Write a Python program to remove all elements from a given set."
   ]
  },
  {
   "cell_type": "code",
   "execution_count": 45,
   "id": "7b5d05b8",
   "metadata": {},
   "outputs": [
    {
     "name": "stdout",
     "output_type": "stream",
     "text": [
      "set()\n"
     ]
    }
   ],
   "source": [
    "set1={1,2,3,4,5}\n",
    "\n",
    "set1.clear()\n",
    "print(set1)"
   ]
  },
  {
   "cell_type": "markdown",
   "id": "c293ed0f",
   "metadata": {},
   "source": [
    "#### 11. Write a Python program to find the maximum and minimum values in a set."
   ]
  },
  {
   "cell_type": "code",
   "execution_count": 46,
   "id": "112008e2",
   "metadata": {},
   "outputs": [
    {
     "name": "stdout",
     "output_type": "stream",
     "text": [
      "18\n"
     ]
    }
   ],
   "source": [
    "setA={1,2,3,4,5,18}\n",
    "\n",
    "print(max(setA))"
   ]
  },
  {
   "cell_type": "markdown",
   "id": "fc40f542",
   "metadata": {},
   "source": [
    "#### 12. Write a Python program to find the index of an item in a tuple."
   ]
  },
  {
   "cell_type": "code",
   "execution_count": 52,
   "id": "dbf3f9fc",
   "metadata": {},
   "outputs": [
    {
     "name": "stdout",
     "output_type": "stream",
     "text": [
      "1\n"
     ]
    }
   ],
   "source": [
    "Z=(\"Hola\",\"Amit\",15,6)\n",
    "\n",
    "print(Z.index(\"Amit\"))\n"
   ]
  },
  {
   "cell_type": "markdown",
   "id": "bbc9ca29",
   "metadata": {},
   "source": [
    "#### 13. Write a Python program to convert a tuple to a dictionary."
   ]
  },
  {
   "cell_type": "code",
   "execution_count": 62,
   "id": "5e6aa071",
   "metadata": {},
   "outputs": [
    {
     "name": "stdout",
     "output_type": "stream",
     "text": [
      "{'Name': 'Ahmed', 'Age': 23}\n"
     ]
    }
   ],
   "source": [
    "A=((\"Name\",\"Ahmed\"),(\"Age\",23))\n",
    "a=dict(A)\n",
    "print(a)"
   ]
  },
  {
   "cell_type": "markdown",
   "id": "ea2a5339",
   "metadata": {},
   "source": [
    "#### 14. Write a Python program to unzip a list of tuples into individual lists."
   ]
  },
  {
   "cell_type": "code",
   "execution_count": 47,
   "id": "fa22a485",
   "metadata": {},
   "outputs": [
    {
     "name": "stdout",
     "output_type": "stream",
     "text": [
      "Unzipped lists: [[1, 2, 3], ['a', 'b', 'c']]\n"
     ]
    }
   ],
   "source": [
    "list_of_tuples = [(1, 'a'), (2, 'b'), (3, 'c')]\n",
    "\n",
    "unzipped_lists = list(zip(*list_of_tuples))\n",
    "\n",
    "unzipped_lists = [list(item) for item in unzipped_lists]\n",
    "\n",
    "print(\"Unzipped lists:\", unzipped_lists)"
   ]
  },
  {
   "cell_type": "markdown",
   "id": "cfb3aa03",
   "metadata": {},
   "source": [
    "#### 15. Write a Python program to reverse a tuple."
   ]
  },
  {
   "cell_type": "code",
   "execution_count": 48,
   "id": "da0212a4",
   "metadata": {},
   "outputs": [
    {
     "name": "stdout",
     "output_type": "stream",
     "text": [
      "Reversed tuple: (5, 4, 3, 2, 1)\n"
     ]
    }
   ],
   "source": [
    "my_tuple = (1, 2, 3, 4, 5)\n",
    "\n",
    "reversed_tuple = my_tuple[::-1]\n",
    "\n",
    "print(\"Reversed tuple:\", reversed_tuple)"
   ]
  },
  {
   "cell_type": "markdown",
   "id": "df9e52f8",
   "metadata": {},
   "source": [
    "#### 16. Write a Python program to convert a list of tuples into a dictionary.\n"
   ]
  },
  {
   "cell_type": "code",
   "execution_count": 49,
   "id": "8d4869a7",
   "metadata": {},
   "outputs": [
    {
     "name": "stdout",
     "output_type": "stream",
     "text": [
      "Dictionary: {1: 'a', 2: 'b', 3: 'c'}\n"
     ]
    }
   ],
   "source": [
    "list_of_tuples = [(1, 'a'), (2, 'b'), (3, 'c')]\n",
    "\n",
    "converted_dict = dict(list_of_tuples)\n",
    "\n",
    "print(\"Dictionary:\", converted_dict)"
   ]
  },
  {
   "cell_type": "markdown",
   "id": "f6b6c011",
   "metadata": {},
   "source": [
    "#### 17. Write a Python program to replace the last value of tuples in a list."
   ]
  },
  {
   "cell_type": "code",
   "execution_count": 50,
   "id": "4ae1d7d5",
   "metadata": {},
   "outputs": [
    {
     "name": "stdout",
     "output_type": "stream",
     "text": [
      "Modified list of tuples: [(1, 'a', 100), (2, 'b', 100), (3, 'c', 100)]\n"
     ]
    }
   ],
   "source": [
    "list_of_tuples = [(1, 'a', 10), (2, 'b', 20), (3, 'c', 30)]\n",
    "new_value = 100\n",
    "\n",
    "newOne = [(t[:-1] + (new_value,)) for t in list_of_tuples]\n",
    "\n",
    "print(\"Modified list of tuples:\", newOne)"
   ]
  },
  {
   "cell_type": "markdown",
   "id": "810e185d",
   "metadata": {},
   "source": [
    "#### 18 Write a Python program to sort a tuple by its float element."
   ]
  },
  {
   "cell_type": "code",
   "execution_count": 51,
   "id": "0dc7eb06",
   "metadata": {},
   "outputs": [
    {
     "name": "stdout",
     "output_type": "stream",
     "text": [
      "Sorted tuple by float element: [(4, 0.5), (2, 1.3), (1, 2.5), (3, 3.8)]\n"
     ]
    }
   ],
   "source": [
    "tuple_ = ((1, 2.5), (2, 1.3), (3, 3.8), (4, 0.5))\n",
    "\n",
    "sort_tuple = sorted(tuple_, key=lambda x: x[1])\n",
    "\n",
    "print(\"Sorted tuple by float element:\", sort_tuple)"
   ]
  },
  {
   "cell_type": "markdown",
   "id": "264544a7",
   "metadata": {},
   "source": [
    "# .PY Questions"
   ]
  },
  {
   "cell_type": "markdown",
   "id": "35de227b",
   "metadata": {},
   "source": [
    "#### 1) Write a program to print the maximum between two numbers. (one-line conditional statement)\n"
   ]
  },
  {
   "cell_type": "code",
   "execution_count": 4,
   "id": "3dfdc438",
   "metadata": {},
   "outputs": [
    {
     "name": "stdout",
     "output_type": "stream",
     "text": [
      "Plz Enter a number:5\n",
      "Plz Enter another number:5\n",
      "5.0 is equal to 5.0\n"
     ]
    }
   ],
   "source": [
    "x=float(input(\"Plz Enter a number:\"))\n",
    "y=float(input(\"Plz Enter another number:\"))\n",
    "\n",
    "print(f\"{x} is greater than {y}\" if x>y else (f\"{y} is greater than {x}\" if y>x else (f\"{x} is equal to {y}\")))"
   ]
  },
  {
   "cell_type": "markdown",
   "id": "1e7dfaa4",
   "metadata": {},
   "source": [
    "#### 2) Write a program to find the maximum between three numbers.\n"
   ]
  },
  {
   "cell_type": "code",
   "execution_count": 7,
   "id": "53884a2f",
   "metadata": {},
   "outputs": [
    {
     "name": "stdout",
     "output_type": "stream",
     "text": [
      "Plz Enter a number:5\n",
      "Plz Enter another number:100\n",
      "Plz Enter more another number:-5\n",
      "100.0\n"
     ]
    }
   ],
   "source": [
    "x=float(input(\"Plz Enter a number:\"))\n",
    "y=float(input(\"Plz Enter another number:\"))\n",
    "z=float(input(\"Plz Enter more another number:\"))\n",
    "\n",
    "print(max(x,y,z))"
   ]
  },
  {
   "cell_type": "markdown",
   "id": "675c4d70",
   "metadata": {},
   "source": [
    "#### 3) Write a program to check whether a number is negative, or positive (one-line conditional statement)"
   ]
  },
  {
   "cell_type": "code",
   "execution_count": 13,
   "id": "a955e4d9",
   "metadata": {},
   "outputs": [
    {
     "name": "stdout",
     "output_type": "stream",
     "text": [
      "Plz Enter a number:0\n",
      "the number is zero.\n"
     ]
    }
   ],
   "source": [
    "x=float(input(\"Plz Enter a number:\"))\n",
    "\n",
    "print(f\"{x} is a positive number.\" if x>0 else (f\"{x} is a negative number.\" if x<0 else (f\"the number is zero.\")))"
   ]
  },
  {
   "cell_type": "markdown",
   "id": "214f50fc",
   "metadata": {},
   "source": [
    "#### 4) Write a  program to check whether a number is even or odd  (one-line statement).\n"
   ]
  },
  {
   "cell_type": "code",
   "execution_count": 18,
   "id": "b06551d8",
   "metadata": {},
   "outputs": [
    {
     "name": "stdout",
     "output_type": "stream",
     "text": [
      "Plz Enter a number:9\n",
      "9.0 is an odd number\n"
     ]
    }
   ],
   "source": [
    "x=float(input(\"Plz Enter a number:\"))\n",
    "\n",
    "print(f\"{x} is an even number\" if x%2==0 else (f\"{x} is an odd number\"))"
   ]
  },
  {
   "cell_type": "markdown",
   "id": "998fd6c2",
   "metadata": {},
   "source": [
    "#### 5) Write a  program to check whether a year is a leap year or not. (one-line conditional statement).\n"
   ]
  },
  {
   "cell_type": "code",
   "execution_count": 20,
   "id": "87f39c04",
   "metadata": {},
   "outputs": [
    {
     "name": "stdout",
     "output_type": "stream",
     "text": [
      "Plz Enter the year:2023\n",
      "2023.0 is not a leap year\n"
     ]
    }
   ],
   "source": [
    "x=float(input(\"Plz Enter the year:\")) \n",
    "\n",
    "print(f\"{x} is a leap year.\" if x%4==0 else(f\"{x} is not a leap year\"))"
   ]
  },
  {
   "cell_type": "markdown",
   "id": "7f066550",
   "metadata": {},
   "source": [
    "#### 6) Write a  program to store the weekdays in a list and access the week day and print it by index.\n"
   ]
  },
  {
   "cell_type": "code",
   "execution_count": 21,
   "id": "bd02803e",
   "metadata": {},
   "outputs": [
    {
     "name": "stdout",
     "output_type": "stream",
     "text": [
      "Saturday\n",
      "Sunday\n",
      "Monday\n",
      "tuesday\n",
      "wednesday\n",
      "Thursday\n",
      "Friday\n"
     ]
    }
   ],
   "source": [
    "WeekDays=[\"Saturday\",\"Sunday\",\"Monday\",\"tuesday\",\"wednesday\",\"Thursday\",\"Friday\"]\n",
    "\n",
    "for i in WeekDays:\n",
    "    print(i)"
   ]
  },
  {
   "cell_type": "markdown",
   "id": "b8e36692",
   "metadata": {},
   "source": [
    "#### 7) Write a  program to print all alphabets from a to z using while loop"
   ]
  },
  {
   "cell_type": "code",
   "execution_count": 27,
   "id": "e5f70cce",
   "metadata": {},
   "outputs": [
    {
     "name": "stdout",
     "output_type": "stream",
     "text": [
      "a b c d e f g h i j k l m n o p q r s t u v w x y z "
     ]
    }
   ],
   "source": [
    "x=ord('a')\n",
    "while x<=ord('z'):\n",
    "    \n",
    "    print(chr(x),end= \" \")\n",
    "    x+=1"
   ]
  },
  {
   "cell_type": "markdown",
   "id": "02aeb9db",
   "metadata": {},
   "source": [
    "#### 8)Write a program to store numbers in the List and print its reverse"
   ]
  },
  {
   "cell_type": "code",
   "execution_count": 43,
   "id": "ce761e61",
   "metadata": {},
   "outputs": [
    {
     "name": "stdout",
     "output_type": "stream",
     "text": [
      "if you want to quit press Q\n",
      "-----------------------------\n",
      "Enter a number: 1\n",
      "Enter a number: 2\n",
      "Enter a number: 3\n",
      "Enter a number: 4\n",
      "Enter a number: 5\n",
      "Enter a number: 6\n",
      "Enter a number: 7\n",
      "Enter a number: 8\n",
      "Enter a number: 9\n",
      "Enter a number: 10\n",
      "Enter a number: Q\n",
      "[10, 9, 8, 7, 6, 5, 4, 3, 2, 1]\n"
     ]
    }
   ],
   "source": [
    "y=[]\n",
    "print(\"if you want to quit press Q\\n-----------------------------\")\n",
    "while True:\n",
    "    x=input(\"Enter a number: \")\n",
    "    if x==\"Q\":\n",
    "        break\n",
    "    else:\n",
    "        z=int(x)\n",
    "        y.append(z)\n",
    "\n",
    "print(y[::-1])"
   ]
  },
  {
   "cell_type": "markdown",
   "id": "09488d7c",
   "metadata": {},
   "source": [
    "#### 9) Write a program to print the multiplcation table of any number"
   ]
  },
  {
   "cell_type": "code",
   "execution_count": 45,
   "id": "afae11b4",
   "metadata": {},
   "outputs": [
    {
     "name": "stdout",
     "output_type": "stream",
     "text": [
      "Enter a number: 3\n",
      "0 x 3 = 0\n",
      "1 x 3 = 3\n",
      "2 x 3 = 6\n",
      "3 x 3 = 9\n",
      "4 x 3 = 12\n",
      "5 x 3 = 15\n",
      "6 x 3 = 18\n",
      "7 x 3 = 21\n",
      "8 x 3 = 24\n",
      "9 x 3 = 27\n",
      "10 x 3 = 30\n",
      "11 x 3 = 33\n",
      "12 x 3 = 36\n"
     ]
    }
   ],
   "source": [
    "x=int(input(\"Enter a number: \"))\n",
    "\n",
    "for i in range(13):\n",
    "    z=x*i\n",
    "    print(f\"{i} x {x} = {z}\")"
   ]
  },
  {
   "cell_type": "markdown",
   "id": "62e0b45c",
   "metadata": {},
   "source": [
    "#### 10)Write a program to print all even numbers between 1 to 100.(using while loop)"
   ]
  },
  {
   "cell_type": "code",
   "execution_count": 46,
   "id": "d473af64",
   "metadata": {},
   "outputs": [
    {
     "name": "stdout",
     "output_type": "stream",
     "text": [
      "0\n",
      "2\n",
      "4\n",
      "6\n",
      "8\n",
      "10\n",
      "12\n",
      "14\n",
      "16\n",
      "18\n",
      "20\n",
      "22\n",
      "24\n",
      "26\n",
      "28\n",
      "30\n",
      "32\n",
      "34\n",
      "36\n",
      "38\n",
      "40\n",
      "42\n",
      "44\n",
      "46\n",
      "48\n",
      "50\n",
      "52\n",
      "54\n",
      "56\n",
      "58\n",
      "60\n",
      "62\n",
      "64\n",
      "66\n",
      "68\n",
      "70\n",
      "72\n",
      "74\n",
      "76\n",
      "78\n",
      "80\n",
      "82\n",
      "84\n",
      "86\n",
      "88\n",
      "90\n",
      "92\n",
      "94\n",
      "96\n",
      "98\n",
      "100\n"
     ]
    }
   ],
   "source": [
    "i=0\n",
    "while i<=100:\n",
    "    print(i)\n",
    "    i+=2"
   ]
  }
 ],
 "metadata": {
  "kernelspec": {
   "display_name": "Python 3 (ipykernel)",
   "language": "python",
   "name": "python3"
  },
  "language_info": {
   "codemirror_mode": {
    "name": "ipython",
    "version": 3
   },
   "file_extension": ".py",
   "mimetype": "text/x-python",
   "name": "python",
   "nbconvert_exporter": "python",
   "pygments_lexer": "ipython3",
   "version": "3.9.12"
  }
 },
 "nbformat": 4,
 "nbformat_minor": 5
}
