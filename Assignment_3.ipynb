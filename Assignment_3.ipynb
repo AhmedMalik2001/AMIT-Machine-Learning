{
 "cells": [
  {
   "cell_type": "markdown",
   "id": "22549ff3",
   "metadata": {},
   "source": [
    "# Assignment_3\n",
    "\n",
    "## Ahmed Malik"
   ]
  },
  {
   "cell_type": "markdown",
   "id": "8b68176a",
   "metadata": {},
   "source": [
    "### 1.Implement Fibonacci series using recursion."
   ]
  },
  {
   "cell_type": "code",
   "execution_count": 174,
   "id": "a1624d94",
   "metadata": {},
   "outputs": [
    {
     "name": "stdout",
     "output_type": "stream",
     "text": [
      "Please enter how long is your vector: 8\n",
      "[0, 1, 1, 2, 3, 5, 8, 13, 21, 34]\n"
     ]
    }
   ],
   "source": [
    "\n",
    "x=int(input(\"Please enter how long is your vector: \"))\n",
    "Liste=[0,1]\n",
    "for i in range (x):\n",
    "\n",
    "\n",
    "    Liste.append(Liste[i]+Liste[i+1])\n",
    "    \n",
    "print(Liste)\n",
    "\n",
    "    \n",
    "\n",
    "\n",
    "    \n"
   ]
  },
  {
   "cell_type": "markdown",
   "id": "c48ecf3a",
   "metadata": {},
   "source": [
    "### 2.Write a Python program to find all the unique words and count the frequency of occurrence from a given list of strings."
   ]
  },
  {
   "cell_type": "code",
   "execution_count": 45,
   "id": "2dbdae35",
   "metadata": {},
   "outputs": [
    {
     "name": "stdout",
     "output_type": "stream",
     "text": [
      "{'Red': 4, 'Green': 2, 'Blue': 1}\n"
     ]
    }
   ],
   "source": [
    "def Uni_words(x):\n",
    "    \n",
    "    words=set(x)\n",
    "    TheWords=dict()\n",
    "    \n",
    "    for i in range(len(words)+1):\n",
    "        cnt=0\n",
    "        \n",
    "        for j in range(len(x)):\n",
    "            \n",
    "            if x[i]==x[j]:\n",
    "                \n",
    "                cnt+=1\n",
    "                #del x[j]\n",
    "            \n",
    "                \n",
    "        TheWords[x[i]]= cnt\n",
    "                \n",
    "    print(TheWords)\n",
    "    \n",
    "words=['Red', 'Green', 'Red', 'Blue', 'Red', 'Red', 'Green']\n",
    "Uni_words(words)\n"
   ]
  },
  {
   "cell_type": "markdown",
   "id": "d09b9ae5",
   "metadata": {},
   "source": [
    "### 3.Write a Python program that finds all pairs of elements in a list whose sum is equal to a given value."
   ]
  },
  {
   "cell_type": "code",
   "execution_count": 175,
   "id": "836ef520",
   "metadata": {},
   "outputs": [
    {
     "name": "stdout",
     "output_type": "stream",
     "text": [
      "Plz enter the target value: 35\n",
      "[(15, 20), (16, 19), (17, 18)]\n"
     ]
    }
   ],
   "source": [
    "Numbers=[11,12,13,14,15,16,17,18,19,20]\n",
    "target_value=int(input(\"Plz enter the target value: \"))\n",
    "x=[]\n",
    "for i in range(len(Numbers)):\n",
    "\n",
    "    for j in range(i+1,len(Numbers)):\n",
    "\n",
    "        if Numbers[j]+Numbers[i]==target_value:\n",
    "\n",
    "            x.append((Numbers[i],Numbers[j]))\n",
    "print(x)\n",
    "    "
   ]
  },
  {
   "cell_type": "markdown",
   "id": "18efab94",
   "metadata": {},
   "source": [
    "### 4.Write a Python program to find the two numbers whose product is maximum among all the pairs in a given list of numbers"
   ]
  },
  {
   "cell_type": "code",
   "execution_count": 51,
   "id": "725697b7",
   "metadata": {},
   "outputs": [
    {
     "name": "stdout",
     "output_type": "stream",
     "text": [
      "(13, 20) \n",
      "\n"
     ]
    }
   ],
   "source": [
    "def MaxMultyPairs(Numbers1):\n",
    "    MultiplicationResults=[]\n",
    "    MultipliedPairs=[]\n",
    "\n",
    "    for i in range(len(Numbers1)):\n",
    "\n",
    "        for j in range(i+1,len(Numbers1)):\n",
    "\n",
    "            MultiplicationResults.append(Numbers1[j]*Numbers1[i] )\n",
    "\n",
    "            MultipliedPairs.append((Numbers1[i],Numbers1[j]))\n",
    "\n",
    "    print(MultipliedPairs[MultiplicationResults.index(max(MultiplicationResults))],\"\\n\")\n",
    "\n",
    "MaxMultyPairs([1, 2, 3, 4, 5, 6, 7, 8,1,13,5,20])\n",
    "\n",
    "# I didn't want to use sort() function"
   ]
  },
  {
   "cell_type": "markdown",
   "id": "48575cf4",
   "metadata": {},
   "source": [
    "### 5.Write a Python function that takes a number as a parameter and checks whether the number is prime or not."
   ]
  },
  {
   "cell_type": "code",
   "execution_count": 57,
   "id": "f57e6a4d",
   "metadata": {},
   "outputs": [
    {
     "name": "stdout",
     "output_type": "stream",
     "text": [
      "5 is a prime number\n",
      "9 is not a prime number \n"
     ]
    }
   ],
   "source": [
    "def PrimeCheckness(x):\n",
    "    \n",
    "    cnt=0\n",
    "    \n",
    "    for i in range(2,x):\n",
    "        \n",
    "        if x%i==0:\n",
    "            cnt+=1\n",
    "    \n",
    "    if cnt==0:\n",
    "        print(f\"{x} is a prime number\")\n",
    "        \n",
    "    else:\n",
    "        print(f\"{x} is not a prime number \")\n",
    "\n",
    "PrimeCheckness(5)\n",
    "PrimeCheckness(9)"
   ]
  },
  {
   "cell_type": "markdown",
   "id": "ced4f8f6",
   "metadata": {},
   "source": [
    "### 6.Write a Python function to print the even numbers from a given list."
   ]
  },
  {
   "cell_type": "code",
   "execution_count": 58,
   "id": "a1666d7e",
   "metadata": {},
   "outputs": [
    {
     "data": {
      "text/plain": [
       "[2, 4, 6, 8, 20]"
      ]
     },
     "execution_count": 58,
     "metadata": {},
     "output_type": "execute_result"
    }
   ],
   "source": [
    "def EvenNum(x):\n",
    "    \n",
    "    z=[]\n",
    "    \n",
    "    for i in range(len(x)):\n",
    "        \n",
    "        if x[i]%2==0:\n",
    "            z.append(x[i])\n",
    "    \n",
    "    return z\n",
    "\n",
    "EvenNum([1, 2, 3, 4, 5, 6, 7, 8,1,13,5,20])\n",
    "            "
   ]
  },
  {
   "cell_type": "markdown",
   "id": "e5d8692c",
   "metadata": {},
   "source": [
    "### 7.Write a function that will take a given string and reverse the order of words."
   ]
  },
  {
   "cell_type": "code",
   "execution_count": 72,
   "id": "a67401df",
   "metadata": {},
   "outputs": [
    {
     "data": {
      "text/plain": [
       "'Malik Ali Mohamed Ahmed'"
      ]
     },
     "execution_count": 72,
     "metadata": {},
     "output_type": "execute_result"
    }
   ],
   "source": [
    "def Reversing(x):\n",
    "    \n",
    "    x=x.split(\" \")\n",
    "    x=x[::-1]\n",
    "    \n",
    "    x=\" \".join(x)\n",
    "    return x\n",
    "\n",
    "Reversing(\"Ahmed Mohamed Ali Malik\")"
   ]
  },
  {
   "cell_type": "markdown",
   "id": "610e5c7c",
   "metadata": {},
   "source": [
    "### 8.Given an integer x, return true if x is a palindrome, and false otherwise."
   ]
  },
  {
   "cell_type": "code",
   "execution_count": 91,
   "id": "da4ced34",
   "metadata": {},
   "outputs": [
    {
     "name": "stdout",
     "output_type": "stream",
     "text": [
      "Plz Enter a Number: 121\n",
      "121 is a palindrome.\n",
      "True\n"
     ]
    }
   ],
   "source": [
    "x=int(input(\"Plz Enter a Number: \"))    \n",
    "x=str(x)\n",
    "cnt=0\n",
    "for i in range(len(x)):\n",
    "\n",
    "    if x[i]==x[-i-1]:\n",
    "        cnt+=1\n",
    "\n",
    "if cnt==len(x):\n",
    "    print(f\"{x} is a palindrome.\")\n",
    "    print(True)\n",
    "else:\n",
    "    print(f\"{x} is not a palindrome\")\n",
    "    print(False)\n"
   ]
  },
  {
   "cell_type": "markdown",
   "id": "1bb5f787",
   "metadata": {},
   "source": [
    "### 9.Write a Python function that checks whether a passed string is a palindrome or not."
   ]
  },
  {
   "cell_type": "code",
   "execution_count": 93,
   "id": "223c85ee",
   "metadata": {},
   "outputs": [
    {
     "name": "stdout",
     "output_type": "stream",
     "text": [
      "ahah is not a palindrome\n"
     ]
    },
    {
     "data": {
      "text/plain": [
       "False"
      ]
     },
     "execution_count": 93,
     "metadata": {},
     "output_type": "execute_result"
    }
   ],
   "source": [
    "def Palindrome(x):\n",
    "    \n",
    "    x=str(x)\n",
    "    cnt=0\n",
    "    for i in range(len(x)):\n",
    "\n",
    "        if x[i]==x[-i-1]:\n",
    "            cnt+=1\n",
    "            \n",
    "    if cnt==len(x):\n",
    "        print(f\"{x} is a palindrome.\")\n",
    "        return True\n",
    "    else:\n",
    "        print(f\"{x} is not a palindrome\")\n",
    "        return False\n",
    "        \n",
    "Palindrome(\"ahah\")"
   ]
  },
  {
   "cell_type": "markdown",
   "id": "1420d2b7",
   "metadata": {},
   "source": [
    "### 10.Write a Python function to create and print a list where the values are the squares of numbers between 1 and 30 (both included)."
   ]
  },
  {
   "cell_type": "code",
   "execution_count": 1,
   "id": "9656033a",
   "metadata": {
    "scrolled": true
   },
   "outputs": [
    {
     "name": "stdout",
     "output_type": "stream",
     "text": [
      "[1, 4, 9, 16, 25, 36, 49, 64, 81, 100, 121, 144, 169, 196, 225, 256, 289, 324, 361, 400, 441, 484, 529, 576, 625, 676, 729, 784, 841, 900]\n"
     ]
    }
   ],
   "source": [
    "def Squares():\n",
    "    \n",
    "    z=[]\n",
    "    for i in range(1,31):\n",
    "        \n",
    "        z.append(i**2)\n",
    "    \n",
    "    print(z)\n",
    "    \n",
    "    \n",
    "\n",
    "Squares()\n",
    "     "
   ]
  },
  {
   "cell_type": "markdown",
   "id": "17f7e91c",
   "metadata": {},
   "source": [
    "### 11.Write a Python function to generate all permutations of a list."
   ]
  },
  {
   "cell_type": "code",
   "execution_count": 151,
   "id": "ef1101cb",
   "metadata": {},
   "outputs": [
    {
     "name": "stdout",
     "output_type": "stream",
     "text": [
      "Enter how many items in the sub group? 3\n",
      "The result value of permutation = 210.0\n",
      "[[1, [2, 3]], [1, [3, 4]], [1, [4, 5]], [1, [5, 6]], [1, [6, 7]], [1, [7]], [1, []], [2, [3, 4]], [2, [4, 5]], [2, [5, 6]], [2, [6, 7]], [2, [7]], [2, []], [2, []], [3, [4, 5]], [3, [5, 6]], [3, [6, 7]], [3, [7]], [3, []], [3, []], [3, []], [4, [5, 6]], [4, [6, 7]], [4, [7]], [4, []], [4, []], [4, []], [4, []], [5, [6, 7]], [5, [7]], [5, []], [5, []], [5, []], [5, []], [5, []], [6, [7]], [6, []], [6, []], [6, []], [6, []], [6, []], [6, []], [7, []], [7, []], [7, []], [7, []], [7, []], [7, []], [7, []]]\n",
      "49\n"
     ]
    }
   ],
   "source": [
    "import math\n",
    "import random\n",
    "\n",
    "def permi(x):\n",
    "    \n",
    "    TheSuperGroup=len(x)\n",
    "    TheSubGroup=int(input(\"Enter how many items in the sub group? \"))\n",
    "    \n",
    "        \n",
    "    result= math.factorial(TheSuperGroup)/(math.factorial(TheSuperGroup-TheSubGroup))\n",
    "    \n",
    "    print(f\"The result value of permutation = {result}\")\n",
    "    \n",
    "    z=[]\n",
    "    y=[]\n",
    "    \n",
    "    for i in range(TheSuperGroup):\n",
    "        cnt=1\n",
    "        ww=0\n",
    "        for j in range (TheSuperGroup):\n",
    "            \n",
    "            z.append([x[i],x[i+cnt:TheSubGroup+j+i]])\n",
    "            #z.append((x[i],x[i+cnt:TheSubGroup+j+i]))\n",
    "            z.split()\n",
    "            cnt+=1\n",
    "            ww+=1\n",
    "            \n",
    "        \n",
    "            \n",
    "  \n",
    "    print(z)\n",
    "    print(len(z))\n",
    "            \n",
    "            \n",
    "#permi([1,2,3,4,5,6,7])\n",
    "#permi([\"A\",\"B\",\"C\",\"D\"])"
   ]
  },
  {
   "cell_type": "markdown",
   "id": "4ee2498c",
   "metadata": {},
   "source": [
    "### 12.Write a Python program to access a function inside a function.\n"
   ]
  },
  {
   "cell_type": "code",
   "execution_count": 172,
   "id": "7af855b2",
   "metadata": {},
   "outputs": [
    {
     "name": "stdout",
     "output_type": "stream",
     "text": [
      "12\n"
     ]
    }
   ],
   "source": [
    "def Calc(x):\n",
    "    \n",
    "    def add(b):\n",
    "        \n",
    "        return x+b\n",
    "    \n",
    "    return add\n",
    "    \n",
    "\n",
    "a=Calc(9)\n",
    "\n",
    "print(a(3))\n"
   ]
  }
 ],
 "metadata": {
  "kernelspec": {
   "display_name": "Python 3 (ipykernel)",
   "language": "python",
   "name": "python3"
  },
  "language_info": {
   "codemirror_mode": {
    "name": "ipython",
    "version": 3
   },
   "file_extension": ".py",
   "mimetype": "text/x-python",
   "name": "python",
   "nbconvert_exporter": "python",
   "pygments_lexer": "ipython3",
   "version": "3.9.12"
  }
 },
 "nbformat": 4,
 "nbformat_minor": 5
}
